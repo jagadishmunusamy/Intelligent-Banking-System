{
 "cells": [
  {
   "cell_type": "code",
   "execution_count": 1,
   "id": "3a4601ff-42e0-41e7-91ed-1fc8511e8ed3",
   "metadata": {},
   "outputs": [],
   "source": [
    "import pandas as pd\n",
    "from matplotlib import pyplot as plt"
   ]
  },
  {
   "cell_type": "code",
   "execution_count": 2,
   "id": "ca8ea53c-5d52-4fca-8a7b-9c5277b80523",
   "metadata": {},
   "outputs": [],
   "source": [
    "data = pd.read_csv('Loan_default_kaggle.csv')"
   ]
  },
  {
   "cell_type": "code",
   "execution_count": 3,
   "id": "e7f8e1fa-5d8b-4313-959a-c5481c312586",
   "metadata": {},
   "outputs": [
    {
     "data": {
      "text/plain": [
       "array(['Divorced', 'Married', 'Single'], dtype=object)"
      ]
     },
     "execution_count": 3,
     "metadata": {},
     "output_type": "execute_result"
    }
   ],
   "source": [
    "data.MaritalStatus.unique()"
   ]
  },
  {
   "cell_type": "code",
   "execution_count": 4,
   "id": "06421e9b-3225-4386-a08e-c498cefc51a0",
   "metadata": {},
   "outputs": [
    {
     "data": {
      "text/html": [
       "<div>\n",
       "<style scoped>\n",
       "    .dataframe tbody tr th:only-of-type {\n",
       "        vertical-align: middle;\n",
       "    }\n",
       "\n",
       "    .dataframe tbody tr th {\n",
       "        vertical-align: top;\n",
       "    }\n",
       "\n",
       "    .dataframe thead th {\n",
       "        text-align: right;\n",
       "    }\n",
       "</style>\n",
       "<table border=\"1\" class=\"dataframe\">\n",
       "  <thead>\n",
       "    <tr style=\"text-align: right;\">\n",
       "      <th></th>\n",
       "      <th>LoanID</th>\n",
       "      <th>Age</th>\n",
       "      <th>Income</th>\n",
       "      <th>LoanAmount</th>\n",
       "      <th>CreditScore</th>\n",
       "      <th>MonthsEmployed</th>\n",
       "      <th>NumCreditLines</th>\n",
       "      <th>InterestRate</th>\n",
       "      <th>LoanTerm</th>\n",
       "      <th>DTIRatio</th>\n",
       "      <th>Education</th>\n",
       "      <th>EmploymentType</th>\n",
       "      <th>MaritalStatus</th>\n",
       "      <th>HasMortgage</th>\n",
       "      <th>HasDependents</th>\n",
       "      <th>LoanPurpose</th>\n",
       "      <th>HasCoSigner</th>\n",
       "      <th>Default</th>\n",
       "    </tr>\n",
       "  </thead>\n",
       "  <tbody>\n",
       "    <tr>\n",
       "      <th>0</th>\n",
       "      <td>I38PQUQS96</td>\n",
       "      <td>56</td>\n",
       "      <td>85994</td>\n",
       "      <td>50587</td>\n",
       "      <td>520</td>\n",
       "      <td>80</td>\n",
       "      <td>4</td>\n",
       "      <td>15.23</td>\n",
       "      <td>36</td>\n",
       "      <td>0.44</td>\n",
       "      <td>Bachelor's</td>\n",
       "      <td>Full-time</td>\n",
       "      <td>Divorced</td>\n",
       "      <td>Yes</td>\n",
       "      <td>Yes</td>\n",
       "      <td>Other</td>\n",
       "      <td>Yes</td>\n",
       "      <td>0</td>\n",
       "    </tr>\n",
       "    <tr>\n",
       "      <th>1</th>\n",
       "      <td>HPSK72WA7R</td>\n",
       "      <td>69</td>\n",
       "      <td>50432</td>\n",
       "      <td>124440</td>\n",
       "      <td>458</td>\n",
       "      <td>15</td>\n",
       "      <td>1</td>\n",
       "      <td>4.81</td>\n",
       "      <td>60</td>\n",
       "      <td>0.68</td>\n",
       "      <td>Master's</td>\n",
       "      <td>Full-time</td>\n",
       "      <td>Married</td>\n",
       "      <td>No</td>\n",
       "      <td>No</td>\n",
       "      <td>Other</td>\n",
       "      <td>Yes</td>\n",
       "      <td>0</td>\n",
       "    </tr>\n",
       "    <tr>\n",
       "      <th>2</th>\n",
       "      <td>C1OZ6DPJ8Y</td>\n",
       "      <td>46</td>\n",
       "      <td>84208</td>\n",
       "      <td>129188</td>\n",
       "      <td>451</td>\n",
       "      <td>26</td>\n",
       "      <td>3</td>\n",
       "      <td>21.17</td>\n",
       "      <td>24</td>\n",
       "      <td>0.31</td>\n",
       "      <td>Master's</td>\n",
       "      <td>Unemployed</td>\n",
       "      <td>Divorced</td>\n",
       "      <td>Yes</td>\n",
       "      <td>Yes</td>\n",
       "      <td>Auto</td>\n",
       "      <td>No</td>\n",
       "      <td>1</td>\n",
       "    </tr>\n",
       "    <tr>\n",
       "      <th>3</th>\n",
       "      <td>V2KKSFM3UN</td>\n",
       "      <td>32</td>\n",
       "      <td>31713</td>\n",
       "      <td>44799</td>\n",
       "      <td>743</td>\n",
       "      <td>0</td>\n",
       "      <td>3</td>\n",
       "      <td>7.07</td>\n",
       "      <td>24</td>\n",
       "      <td>0.23</td>\n",
       "      <td>High School</td>\n",
       "      <td>Full-time</td>\n",
       "      <td>Married</td>\n",
       "      <td>No</td>\n",
       "      <td>No</td>\n",
       "      <td>Business</td>\n",
       "      <td>No</td>\n",
       "      <td>0</td>\n",
       "    </tr>\n",
       "    <tr>\n",
       "      <th>4</th>\n",
       "      <td>EY08JDHTZP</td>\n",
       "      <td>60</td>\n",
       "      <td>20437</td>\n",
       "      <td>9139</td>\n",
       "      <td>633</td>\n",
       "      <td>8</td>\n",
       "      <td>4</td>\n",
       "      <td>6.51</td>\n",
       "      <td>48</td>\n",
       "      <td>0.73</td>\n",
       "      <td>Bachelor's</td>\n",
       "      <td>Unemployed</td>\n",
       "      <td>Divorced</td>\n",
       "      <td>No</td>\n",
       "      <td>Yes</td>\n",
       "      <td>Auto</td>\n",
       "      <td>No</td>\n",
       "      <td>0</td>\n",
       "    </tr>\n",
       "    <tr>\n",
       "      <th>...</th>\n",
       "      <td>...</td>\n",
       "      <td>...</td>\n",
       "      <td>...</td>\n",
       "      <td>...</td>\n",
       "      <td>...</td>\n",
       "      <td>...</td>\n",
       "      <td>...</td>\n",
       "      <td>...</td>\n",
       "      <td>...</td>\n",
       "      <td>...</td>\n",
       "      <td>...</td>\n",
       "      <td>...</td>\n",
       "      <td>...</td>\n",
       "      <td>...</td>\n",
       "      <td>...</td>\n",
       "      <td>...</td>\n",
       "      <td>...</td>\n",
       "      <td>...</td>\n",
       "    </tr>\n",
       "    <tr>\n",
       "      <th>995</th>\n",
       "      <td>31SJTMWFCT</td>\n",
       "      <td>60</td>\n",
       "      <td>87805</td>\n",
       "      <td>124827</td>\n",
       "      <td>842</td>\n",
       "      <td>30</td>\n",
       "      <td>4</td>\n",
       "      <td>9.11</td>\n",
       "      <td>36</td>\n",
       "      <td>0.66</td>\n",
       "      <td>Master's</td>\n",
       "      <td>Part-time</td>\n",
       "      <td>Divorced</td>\n",
       "      <td>Yes</td>\n",
       "      <td>Yes</td>\n",
       "      <td>Business</td>\n",
       "      <td>No</td>\n",
       "      <td>0</td>\n",
       "    </tr>\n",
       "    <tr>\n",
       "      <th>996</th>\n",
       "      <td>R738Q1I3JW</td>\n",
       "      <td>64</td>\n",
       "      <td>129745</td>\n",
       "      <td>214172</td>\n",
       "      <td>843</td>\n",
       "      <td>105</td>\n",
       "      <td>1</td>\n",
       "      <td>9.00</td>\n",
       "      <td>60</td>\n",
       "      <td>0.59</td>\n",
       "      <td>Master's</td>\n",
       "      <td>Unemployed</td>\n",
       "      <td>Married</td>\n",
       "      <td>Yes</td>\n",
       "      <td>Yes</td>\n",
       "      <td>Home</td>\n",
       "      <td>Yes</td>\n",
       "      <td>0</td>\n",
       "    </tr>\n",
       "    <tr>\n",
       "      <th>997</th>\n",
       "      <td>2A7OI5RIMX</td>\n",
       "      <td>62</td>\n",
       "      <td>58712</td>\n",
       "      <td>188494</td>\n",
       "      <td>700</td>\n",
       "      <td>62</td>\n",
       "      <td>1</td>\n",
       "      <td>10.62</td>\n",
       "      <td>24</td>\n",
       "      <td>0.78</td>\n",
       "      <td>Bachelor's</td>\n",
       "      <td>Unemployed</td>\n",
       "      <td>Divorced</td>\n",
       "      <td>Yes</td>\n",
       "      <td>Yes</td>\n",
       "      <td>Home</td>\n",
       "      <td>Yes</td>\n",
       "      <td>0</td>\n",
       "    </tr>\n",
       "    <tr>\n",
       "      <th>998</th>\n",
       "      <td>HUO1LPG2Q3</td>\n",
       "      <td>35</td>\n",
       "      <td>108703</td>\n",
       "      <td>44268</td>\n",
       "      <td>604</td>\n",
       "      <td>98</td>\n",
       "      <td>2</td>\n",
       "      <td>3.94</td>\n",
       "      <td>36</td>\n",
       "      <td>0.36</td>\n",
       "      <td>Master's</td>\n",
       "      <td>Unemployed</td>\n",
       "      <td>Single</td>\n",
       "      <td>Yes</td>\n",
       "      <td>No</td>\n",
       "      <td>Business</td>\n",
       "      <td>No</td>\n",
       "      <td>0</td>\n",
       "    </tr>\n",
       "    <tr>\n",
       "      <th>999</th>\n",
       "      <td>04ZFSPHW91</td>\n",
       "      <td>55</td>\n",
       "      <td>146660</td>\n",
       "      <td>223015</td>\n",
       "      <td>737</td>\n",
       "      <td>56</td>\n",
       "      <td>1</td>\n",
       "      <td>7.67</td>\n",
       "      <td>60</td>\n",
       "      <td>0.61</td>\n",
       "      <td>Bachelor's</td>\n",
       "      <td>Unemployed</td>\n",
       "      <td>Married</td>\n",
       "      <td>No</td>\n",
       "      <td>No</td>\n",
       "      <td>Education</td>\n",
       "      <td>Yes</td>\n",
       "      <td>0</td>\n",
       "    </tr>\n",
       "  </tbody>\n",
       "</table>\n",
       "<p>1000 rows × 18 columns</p>\n",
       "</div>"
      ],
      "text/plain": [
       "         LoanID  Age  Income  LoanAmount  CreditScore  MonthsEmployed  \\\n",
       "0    I38PQUQS96   56   85994       50587          520              80   \n",
       "1    HPSK72WA7R   69   50432      124440          458              15   \n",
       "2    C1OZ6DPJ8Y   46   84208      129188          451              26   \n",
       "3    V2KKSFM3UN   32   31713       44799          743               0   \n",
       "4    EY08JDHTZP   60   20437        9139          633               8   \n",
       "..          ...  ...     ...         ...          ...             ...   \n",
       "995  31SJTMWFCT   60   87805      124827          842              30   \n",
       "996  R738Q1I3JW   64  129745      214172          843             105   \n",
       "997  2A7OI5RIMX   62   58712      188494          700              62   \n",
       "998  HUO1LPG2Q3   35  108703       44268          604              98   \n",
       "999  04ZFSPHW91   55  146660      223015          737              56   \n",
       "\n",
       "     NumCreditLines  InterestRate  LoanTerm  DTIRatio    Education  \\\n",
       "0                 4         15.23        36      0.44   Bachelor's   \n",
       "1                 1          4.81        60      0.68     Master's   \n",
       "2                 3         21.17        24      0.31     Master's   \n",
       "3                 3          7.07        24      0.23  High School   \n",
       "4                 4          6.51        48      0.73   Bachelor's   \n",
       "..              ...           ...       ...       ...          ...   \n",
       "995               4          9.11        36      0.66     Master's   \n",
       "996               1          9.00        60      0.59     Master's   \n",
       "997               1         10.62        24      0.78   Bachelor's   \n",
       "998               2          3.94        36      0.36     Master's   \n",
       "999               1          7.67        60      0.61   Bachelor's   \n",
       "\n",
       "    EmploymentType MaritalStatus HasMortgage HasDependents LoanPurpose  \\\n",
       "0        Full-time      Divorced         Yes           Yes       Other   \n",
       "1        Full-time       Married          No            No       Other   \n",
       "2       Unemployed      Divorced         Yes           Yes        Auto   \n",
       "3        Full-time       Married          No            No    Business   \n",
       "4       Unemployed      Divorced          No           Yes        Auto   \n",
       "..             ...           ...         ...           ...         ...   \n",
       "995      Part-time      Divorced         Yes           Yes    Business   \n",
       "996     Unemployed       Married         Yes           Yes        Home   \n",
       "997     Unemployed      Divorced         Yes           Yes        Home   \n",
       "998     Unemployed        Single         Yes            No    Business   \n",
       "999     Unemployed       Married          No            No   Education   \n",
       "\n",
       "    HasCoSigner  Default  \n",
       "0           Yes        0  \n",
       "1           Yes        0  \n",
       "2            No        1  \n",
       "3            No        0  \n",
       "4            No        0  \n",
       "..          ...      ...  \n",
       "995          No        0  \n",
       "996         Yes        0  \n",
       "997         Yes        0  \n",
       "998          No        0  \n",
       "999         Yes        0  \n",
       "\n",
       "[1000 rows x 18 columns]"
      ]
     },
     "execution_count": 4,
     "metadata": {},
     "output_type": "execute_result"
    }
   ],
   "source": [
    "df1 = data[:1000]\n",
    "df1"
   ]
  },
  {
   "cell_type": "code",
   "execution_count": 5,
   "id": "ab14d089-bc61-4035-b75d-650d463f0bd0",
   "metadata": {
    "scrolled": true
   },
   "outputs": [
    {
     "data": {
      "text/html": [
       "<div>\n",
       "<style scoped>\n",
       "    .dataframe tbody tr th:only-of-type {\n",
       "        vertical-align: middle;\n",
       "    }\n",
       "\n",
       "    .dataframe tbody tr th {\n",
       "        vertical-align: top;\n",
       "    }\n",
       "\n",
       "    .dataframe thead th {\n",
       "        text-align: right;\n",
       "    }\n",
       "</style>\n",
       "<table border=\"1\" class=\"dataframe\">\n",
       "  <thead>\n",
       "    <tr style=\"text-align: right;\">\n",
       "      <th></th>\n",
       "      <th>Age</th>\n",
       "      <th>Income</th>\n",
       "      <th>LoanAmount</th>\n",
       "      <th>CreditScore</th>\n",
       "      <th>LoanTerm</th>\n",
       "      <th>EmploymentType</th>\n",
       "      <th>MaritalStatus</th>\n",
       "      <th>Default</th>\n",
       "    </tr>\n",
       "  </thead>\n",
       "  <tbody>\n",
       "    <tr>\n",
       "      <th>0</th>\n",
       "      <td>56</td>\n",
       "      <td>85994</td>\n",
       "      <td>50587</td>\n",
       "      <td>520</td>\n",
       "      <td>36</td>\n",
       "      <td>Full-time</td>\n",
       "      <td>Divorced</td>\n",
       "      <td>0</td>\n",
       "    </tr>\n",
       "    <tr>\n",
       "      <th>1</th>\n",
       "      <td>69</td>\n",
       "      <td>50432</td>\n",
       "      <td>124440</td>\n",
       "      <td>458</td>\n",
       "      <td>60</td>\n",
       "      <td>Full-time</td>\n",
       "      <td>Married</td>\n",
       "      <td>0</td>\n",
       "    </tr>\n",
       "    <tr>\n",
       "      <th>2</th>\n",
       "      <td>46</td>\n",
       "      <td>84208</td>\n",
       "      <td>129188</td>\n",
       "      <td>451</td>\n",
       "      <td>24</td>\n",
       "      <td>Unemployed</td>\n",
       "      <td>Divorced</td>\n",
       "      <td>1</td>\n",
       "    </tr>\n",
       "    <tr>\n",
       "      <th>3</th>\n",
       "      <td>32</td>\n",
       "      <td>31713</td>\n",
       "      <td>44799</td>\n",
       "      <td>743</td>\n",
       "      <td>24</td>\n",
       "      <td>Full-time</td>\n",
       "      <td>Married</td>\n",
       "      <td>0</td>\n",
       "    </tr>\n",
       "    <tr>\n",
       "      <th>4</th>\n",
       "      <td>60</td>\n",
       "      <td>20437</td>\n",
       "      <td>9139</td>\n",
       "      <td>633</td>\n",
       "      <td>48</td>\n",
       "      <td>Unemployed</td>\n",
       "      <td>Divorced</td>\n",
       "      <td>0</td>\n",
       "    </tr>\n",
       "    <tr>\n",
       "      <th>5</th>\n",
       "      <td>25</td>\n",
       "      <td>90298</td>\n",
       "      <td>90448</td>\n",
       "      <td>720</td>\n",
       "      <td>24</td>\n",
       "      <td>Unemployed</td>\n",
       "      <td>Single</td>\n",
       "      <td>1</td>\n",
       "    </tr>\n",
       "    <tr>\n",
       "      <th>6</th>\n",
       "      <td>38</td>\n",
       "      <td>111188</td>\n",
       "      <td>177025</td>\n",
       "      <td>429</td>\n",
       "      <td>12</td>\n",
       "      <td>Unemployed</td>\n",
       "      <td>Single</td>\n",
       "      <td>0</td>\n",
       "    </tr>\n",
       "    <tr>\n",
       "      <th>7</th>\n",
       "      <td>56</td>\n",
       "      <td>126802</td>\n",
       "      <td>155511</td>\n",
       "      <td>531</td>\n",
       "      <td>60</td>\n",
       "      <td>Full-time</td>\n",
       "      <td>Married</td>\n",
       "      <td>0</td>\n",
       "    </tr>\n",
       "    <tr>\n",
       "      <th>8</th>\n",
       "      <td>36</td>\n",
       "      <td>42053</td>\n",
       "      <td>92357</td>\n",
       "      <td>827</td>\n",
       "      <td>48</td>\n",
       "      <td>Self-employed</td>\n",
       "      <td>Divorced</td>\n",
       "      <td>1</td>\n",
       "    </tr>\n",
       "    <tr>\n",
       "      <th>9</th>\n",
       "      <td>40</td>\n",
       "      <td>132784</td>\n",
       "      <td>228510</td>\n",
       "      <td>480</td>\n",
       "      <td>48</td>\n",
       "      <td>Self-employed</td>\n",
       "      <td>Married</td>\n",
       "      <td>0</td>\n",
       "    </tr>\n",
       "    <tr>\n",
       "      <th>10</th>\n",
       "      <td>28</td>\n",
       "      <td>140466</td>\n",
       "      <td>163781</td>\n",
       "      <td>652</td>\n",
       "      <td>48</td>\n",
       "      <td>Unemployed</td>\n",
       "      <td>Married</td>\n",
       "      <td>0</td>\n",
       "    </tr>\n",
       "    <tr>\n",
       "      <th>11</th>\n",
       "      <td>28</td>\n",
       "      <td>149227</td>\n",
       "      <td>139759</td>\n",
       "      <td>375</td>\n",
       "      <td>36</td>\n",
       "      <td>Full-time</td>\n",
       "      <td>Divorced</td>\n",
       "      <td>1</td>\n",
       "    </tr>\n",
       "    <tr>\n",
       "      <th>12</th>\n",
       "      <td>41</td>\n",
       "      <td>23265</td>\n",
       "      <td>63527</td>\n",
       "      <td>829</td>\n",
       "      <td>60</td>\n",
       "      <td>Full-time</td>\n",
       "      <td>Divorced</td>\n",
       "      <td>0</td>\n",
       "    </tr>\n",
       "    <tr>\n",
       "      <th>13</th>\n",
       "      <td>53</td>\n",
       "      <td>117550</td>\n",
       "      <td>95744</td>\n",
       "      <td>395</td>\n",
       "      <td>24</td>\n",
       "      <td>Unemployed</td>\n",
       "      <td>Single</td>\n",
       "      <td>0</td>\n",
       "    </tr>\n",
       "    <tr>\n",
       "      <th>14</th>\n",
       "      <td>57</td>\n",
       "      <td>139699</td>\n",
       "      <td>88143</td>\n",
       "      <td>635</td>\n",
       "      <td>48</td>\n",
       "      <td>Part-time</td>\n",
       "      <td>Divorced</td>\n",
       "      <td>0</td>\n",
       "    </tr>\n",
       "    <tr>\n",
       "      <th>15</th>\n",
       "      <td>41</td>\n",
       "      <td>74064</td>\n",
       "      <td>230883</td>\n",
       "      <td>432</td>\n",
       "      <td>60</td>\n",
       "      <td>Unemployed</td>\n",
       "      <td>Married</td>\n",
       "      <td>0</td>\n",
       "    </tr>\n",
       "    <tr>\n",
       "      <th>16</th>\n",
       "      <td>20</td>\n",
       "      <td>119704</td>\n",
       "      <td>25697</td>\n",
       "      <td>313</td>\n",
       "      <td>24</td>\n",
       "      <td>Unemployed</td>\n",
       "      <td>Single</td>\n",
       "      <td>0</td>\n",
       "    </tr>\n",
       "    <tr>\n",
       "      <th>17</th>\n",
       "      <td>39</td>\n",
       "      <td>33015</td>\n",
       "      <td>10889</td>\n",
       "      <td>811</td>\n",
       "      <td>60</td>\n",
       "      <td>Self-employed</td>\n",
       "      <td>Single</td>\n",
       "      <td>0</td>\n",
       "    </tr>\n",
       "    <tr>\n",
       "      <th>18</th>\n",
       "      <td>19</td>\n",
       "      <td>40718</td>\n",
       "      <td>78515</td>\n",
       "      <td>319</td>\n",
       "      <td>24</td>\n",
       "      <td>Self-employed</td>\n",
       "      <td>Divorced</td>\n",
       "      <td>1</td>\n",
       "    </tr>\n",
       "    <tr>\n",
       "      <th>19</th>\n",
       "      <td>41</td>\n",
       "      <td>123419</td>\n",
       "      <td>161146</td>\n",
       "      <td>376</td>\n",
       "      <td>60</td>\n",
       "      <td>Self-employed</td>\n",
       "      <td>Single</td>\n",
       "      <td>0</td>\n",
       "    </tr>\n",
       "    <tr>\n",
       "      <th>20</th>\n",
       "      <td>61</td>\n",
       "      <td>30142</td>\n",
       "      <td>133714</td>\n",
       "      <td>429</td>\n",
       "      <td>12</td>\n",
       "      <td>Part-time</td>\n",
       "      <td>Divorced</td>\n",
       "      <td>0</td>\n",
       "    </tr>\n",
       "    <tr>\n",
       "      <th>21</th>\n",
       "      <td>47</td>\n",
       "      <td>146113</td>\n",
       "      <td>100621</td>\n",
       "      <td>419</td>\n",
       "      <td>12</td>\n",
       "      <td>Unemployed</td>\n",
       "      <td>Married</td>\n",
       "      <td>0</td>\n",
       "    </tr>\n",
       "    <tr>\n",
       "      <th>22</th>\n",
       "      <td>55</td>\n",
       "      <td>132058</td>\n",
       "      <td>130912</td>\n",
       "      <td>583</td>\n",
       "      <td>60</td>\n",
       "      <td>Unemployed</td>\n",
       "      <td>Married</td>\n",
       "      <td>0</td>\n",
       "    </tr>\n",
       "    <tr>\n",
       "      <th>23</th>\n",
       "      <td>19</td>\n",
       "      <td>118989</td>\n",
       "      <td>123300</td>\n",
       "      <td>528</td>\n",
       "      <td>36</td>\n",
       "      <td>Part-time</td>\n",
       "      <td>Single</td>\n",
       "      <td>1</td>\n",
       "    </tr>\n",
       "    <tr>\n",
       "      <th>24</th>\n",
       "      <td>38</td>\n",
       "      <td>56848</td>\n",
       "      <td>168918</td>\n",
       "      <td>468</td>\n",
       "      <td>24</td>\n",
       "      <td>Unemployed</td>\n",
       "      <td>Single</td>\n",
       "      <td>0</td>\n",
       "    </tr>\n",
       "    <tr>\n",
       "      <th>25</th>\n",
       "      <td>50</td>\n",
       "      <td>81649</td>\n",
       "      <td>78193</td>\n",
       "      <td>839</td>\n",
       "      <td>48</td>\n",
       "      <td>Part-time</td>\n",
       "      <td>Married</td>\n",
       "      <td>0</td>\n",
       "    </tr>\n",
       "    <tr>\n",
       "      <th>26</th>\n",
       "      <td>29</td>\n",
       "      <td>114651</td>\n",
       "      <td>197648</td>\n",
       "      <td>343</td>\n",
       "      <td>24</td>\n",
       "      <td>Part-time</td>\n",
       "      <td>Married</td>\n",
       "      <td>0</td>\n",
       "    </tr>\n",
       "    <tr>\n",
       "      <th>27</th>\n",
       "      <td>39</td>\n",
       "      <td>17633</td>\n",
       "      <td>167105</td>\n",
       "      <td>514</td>\n",
       "      <td>36</td>\n",
       "      <td>Full-time</td>\n",
       "      <td>Single</td>\n",
       "      <td>1</td>\n",
       "    </tr>\n",
       "    <tr>\n",
       "      <th>28</th>\n",
       "      <td>61</td>\n",
       "      <td>62519</td>\n",
       "      <td>29676</td>\n",
       "      <td>462</td>\n",
       "      <td>48</td>\n",
       "      <td>Unemployed</td>\n",
       "      <td>Divorced</td>\n",
       "      <td>0</td>\n",
       "    </tr>\n",
       "    <tr>\n",
       "      <th>29</th>\n",
       "      <td>42</td>\n",
       "      <td>141412</td>\n",
       "      <td>197764</td>\n",
       "      <td>580</td>\n",
       "      <td>12</td>\n",
       "      <td>Full-time</td>\n",
       "      <td>Married</td>\n",
       "      <td>0</td>\n",
       "    </tr>\n",
       "    <tr>\n",
       "      <th>30</th>\n",
       "      <td>66</td>\n",
       "      <td>39568</td>\n",
       "      <td>58945</td>\n",
       "      <td>604</td>\n",
       "      <td>12</td>\n",
       "      <td>Unemployed</td>\n",
       "      <td>Divorced</td>\n",
       "      <td>0</td>\n",
       "    </tr>\n",
       "    <tr>\n",
       "      <th>31</th>\n",
       "      <td>44</td>\n",
       "      <td>100284</td>\n",
       "      <td>225403</td>\n",
       "      <td>551</td>\n",
       "      <td>36</td>\n",
       "      <td>Unemployed</td>\n",
       "      <td>Divorced</td>\n",
       "      <td>1</td>\n",
       "    </tr>\n",
       "    <tr>\n",
       "      <th>32</th>\n",
       "      <td>59</td>\n",
       "      <td>102292</td>\n",
       "      <td>55337</td>\n",
       "      <td>840</td>\n",
       "      <td>60</td>\n",
       "      <td>Unemployed</td>\n",
       "      <td>Married</td>\n",
       "      <td>0</td>\n",
       "    </tr>\n",
       "    <tr>\n",
       "      <th>33</th>\n",
       "      <td>45</td>\n",
       "      <td>85673</td>\n",
       "      <td>48773</td>\n",
       "      <td>787</td>\n",
       "      <td>24</td>\n",
       "      <td>Full-time</td>\n",
       "      <td>Divorced</td>\n",
       "      <td>0</td>\n",
       "    </tr>\n",
       "    <tr>\n",
       "      <th>34</th>\n",
       "      <td>33</td>\n",
       "      <td>92448</td>\n",
       "      <td>66282</td>\n",
       "      <td>607</td>\n",
       "      <td>12</td>\n",
       "      <td>Part-time</td>\n",
       "      <td>Divorced</td>\n",
       "      <td>0</td>\n",
       "    </tr>\n",
       "    <tr>\n",
       "      <th>35</th>\n",
       "      <td>32</td>\n",
       "      <td>102178</td>\n",
       "      <td>179279</td>\n",
       "      <td>669</td>\n",
       "      <td>12</td>\n",
       "      <td>Self-employed</td>\n",
       "      <td>Single</td>\n",
       "      <td>0</td>\n",
       "    </tr>\n",
       "    <tr>\n",
       "      <th>36</th>\n",
       "      <td>64</td>\n",
       "      <td>102463</td>\n",
       "      <td>218433</td>\n",
       "      <td>506</td>\n",
       "      <td>60</td>\n",
       "      <td>Unemployed</td>\n",
       "      <td>Married</td>\n",
       "      <td>0</td>\n",
       "    </tr>\n",
       "    <tr>\n",
       "      <th>37</th>\n",
       "      <td>68</td>\n",
       "      <td>85409</td>\n",
       "      <td>44772</td>\n",
       "      <td>540</td>\n",
       "      <td>36</td>\n",
       "      <td>Unemployed</td>\n",
       "      <td>Divorced</td>\n",
       "      <td>0</td>\n",
       "    </tr>\n",
       "    <tr>\n",
       "      <th>38</th>\n",
       "      <td>61</td>\n",
       "      <td>26470</td>\n",
       "      <td>19818</td>\n",
       "      <td>695</td>\n",
       "      <td>36</td>\n",
       "      <td>Unemployed</td>\n",
       "      <td>Divorced</td>\n",
       "      <td>0</td>\n",
       "    </tr>\n",
       "    <tr>\n",
       "      <th>39</th>\n",
       "      <td>69</td>\n",
       "      <td>87295</td>\n",
       "      <td>16281</td>\n",
       "      <td>707</td>\n",
       "      <td>60</td>\n",
       "      <td>Part-time</td>\n",
       "      <td>Single</td>\n",
       "      <td>0</td>\n",
       "    </tr>\n",
       "    <tr>\n",
       "      <th>40</th>\n",
       "      <td>20</td>\n",
       "      <td>139321</td>\n",
       "      <td>43049</td>\n",
       "      <td>458</td>\n",
       "      <td>36</td>\n",
       "      <td>Self-employed</td>\n",
       "      <td>Single</td>\n",
       "      <td>1</td>\n",
       "    </tr>\n",
       "    <tr>\n",
       "      <th>41</th>\n",
       "      <td>54</td>\n",
       "      <td>21487</td>\n",
       "      <td>84115</td>\n",
       "      <td>386</td>\n",
       "      <td>60</td>\n",
       "      <td>Unemployed</td>\n",
       "      <td>Married</td>\n",
       "      <td>0</td>\n",
       "    </tr>\n",
       "    <tr>\n",
       "      <th>42</th>\n",
       "      <td>68</td>\n",
       "      <td>111716</td>\n",
       "      <td>215851</td>\n",
       "      <td>747</td>\n",
       "      <td>60</td>\n",
       "      <td>Unemployed</td>\n",
       "      <td>Divorced</td>\n",
       "      <td>0</td>\n",
       "    </tr>\n",
       "    <tr>\n",
       "      <th>43</th>\n",
       "      <td>24</td>\n",
       "      <td>105732</td>\n",
       "      <td>33013</td>\n",
       "      <td>400</td>\n",
       "      <td>36</td>\n",
       "      <td>Full-time</td>\n",
       "      <td>Married</td>\n",
       "      <td>0</td>\n",
       "    </tr>\n",
       "    <tr>\n",
       "      <th>44</th>\n",
       "      <td>38</td>\n",
       "      <td>73117</td>\n",
       "      <td>221628</td>\n",
       "      <td>639</td>\n",
       "      <td>36</td>\n",
       "      <td>Part-time</td>\n",
       "      <td>Married</td>\n",
       "      <td>0</td>\n",
       "    </tr>\n",
       "    <tr>\n",
       "      <th>45</th>\n",
       "      <td>26</td>\n",
       "      <td>125268</td>\n",
       "      <td>67671</td>\n",
       "      <td>795</td>\n",
       "      <td>12</td>\n",
       "      <td>Self-employed</td>\n",
       "      <td>Single</td>\n",
       "      <td>0</td>\n",
       "    </tr>\n",
       "    <tr>\n",
       "      <th>46</th>\n",
       "      <td>56</td>\n",
       "      <td>24796</td>\n",
       "      <td>37657</td>\n",
       "      <td>498</td>\n",
       "      <td>48</td>\n",
       "      <td>Part-time</td>\n",
       "      <td>Married</td>\n",
       "      <td>0</td>\n",
       "    </tr>\n",
       "    <tr>\n",
       "      <th>47</th>\n",
       "      <td>35</td>\n",
       "      <td>95963</td>\n",
       "      <td>77552</td>\n",
       "      <td>560</td>\n",
       "      <td>24</td>\n",
       "      <td>Self-employed</td>\n",
       "      <td>Divorced</td>\n",
       "      <td>1</td>\n",
       "    </tr>\n",
       "    <tr>\n",
       "      <th>48</th>\n",
       "      <td>21</td>\n",
       "      <td>16170</td>\n",
       "      <td>66883</td>\n",
       "      <td>505</td>\n",
       "      <td>48</td>\n",
       "      <td>Self-employed</td>\n",
       "      <td>Single</td>\n",
       "      <td>0</td>\n",
       "    </tr>\n",
       "    <tr>\n",
       "      <th>49</th>\n",
       "      <td>42</td>\n",
       "      <td>143244</td>\n",
       "      <td>240591</td>\n",
       "      <td>393</td>\n",
       "      <td>36</td>\n",
       "      <td>Self-employed</td>\n",
       "      <td>Married</td>\n",
       "      <td>0</td>\n",
       "    </tr>\n",
       "  </tbody>\n",
       "</table>\n",
       "</div>"
      ],
      "text/plain": [
       "    Age  Income  LoanAmount  CreditScore  LoanTerm EmploymentType  \\\n",
       "0    56   85994       50587          520        36      Full-time   \n",
       "1    69   50432      124440          458        60      Full-time   \n",
       "2    46   84208      129188          451        24     Unemployed   \n",
       "3    32   31713       44799          743        24      Full-time   \n",
       "4    60   20437        9139          633        48     Unemployed   \n",
       "5    25   90298       90448          720        24     Unemployed   \n",
       "6    38  111188      177025          429        12     Unemployed   \n",
       "7    56  126802      155511          531        60      Full-time   \n",
       "8    36   42053       92357          827        48  Self-employed   \n",
       "9    40  132784      228510          480        48  Self-employed   \n",
       "10   28  140466      163781          652        48     Unemployed   \n",
       "11   28  149227      139759          375        36      Full-time   \n",
       "12   41   23265       63527          829        60      Full-time   \n",
       "13   53  117550       95744          395        24     Unemployed   \n",
       "14   57  139699       88143          635        48      Part-time   \n",
       "15   41   74064      230883          432        60     Unemployed   \n",
       "16   20  119704       25697          313        24     Unemployed   \n",
       "17   39   33015       10889          811        60  Self-employed   \n",
       "18   19   40718       78515          319        24  Self-employed   \n",
       "19   41  123419      161146          376        60  Self-employed   \n",
       "20   61   30142      133714          429        12      Part-time   \n",
       "21   47  146113      100621          419        12     Unemployed   \n",
       "22   55  132058      130912          583        60     Unemployed   \n",
       "23   19  118989      123300          528        36      Part-time   \n",
       "24   38   56848      168918          468        24     Unemployed   \n",
       "25   50   81649       78193          839        48      Part-time   \n",
       "26   29  114651      197648          343        24      Part-time   \n",
       "27   39   17633      167105          514        36      Full-time   \n",
       "28   61   62519       29676          462        48     Unemployed   \n",
       "29   42  141412      197764          580        12      Full-time   \n",
       "30   66   39568       58945          604        12     Unemployed   \n",
       "31   44  100284      225403          551        36     Unemployed   \n",
       "32   59  102292       55337          840        60     Unemployed   \n",
       "33   45   85673       48773          787        24      Full-time   \n",
       "34   33   92448       66282          607        12      Part-time   \n",
       "35   32  102178      179279          669        12  Self-employed   \n",
       "36   64  102463      218433          506        60     Unemployed   \n",
       "37   68   85409       44772          540        36     Unemployed   \n",
       "38   61   26470       19818          695        36     Unemployed   \n",
       "39   69   87295       16281          707        60      Part-time   \n",
       "40   20  139321       43049          458        36  Self-employed   \n",
       "41   54   21487       84115          386        60     Unemployed   \n",
       "42   68  111716      215851          747        60     Unemployed   \n",
       "43   24  105732       33013          400        36      Full-time   \n",
       "44   38   73117      221628          639        36      Part-time   \n",
       "45   26  125268       67671          795        12  Self-employed   \n",
       "46   56   24796       37657          498        48      Part-time   \n",
       "47   35   95963       77552          560        24  Self-employed   \n",
       "48   21   16170       66883          505        48  Self-employed   \n",
       "49   42  143244      240591          393        36  Self-employed   \n",
       "\n",
       "   MaritalStatus  Default  \n",
       "0       Divorced        0  \n",
       "1        Married        0  \n",
       "2       Divorced        1  \n",
       "3        Married        0  \n",
       "4       Divorced        0  \n",
       "5         Single        1  \n",
       "6         Single        0  \n",
       "7        Married        0  \n",
       "8       Divorced        1  \n",
       "9        Married        0  \n",
       "10       Married        0  \n",
       "11      Divorced        1  \n",
       "12      Divorced        0  \n",
       "13        Single        0  \n",
       "14      Divorced        0  \n",
       "15       Married        0  \n",
       "16        Single        0  \n",
       "17        Single        0  \n",
       "18      Divorced        1  \n",
       "19        Single        0  \n",
       "20      Divorced        0  \n",
       "21       Married        0  \n",
       "22       Married        0  \n",
       "23        Single        1  \n",
       "24        Single        0  \n",
       "25       Married        0  \n",
       "26       Married        0  \n",
       "27        Single        1  \n",
       "28      Divorced        0  \n",
       "29       Married        0  \n",
       "30      Divorced        0  \n",
       "31      Divorced        1  \n",
       "32       Married        0  \n",
       "33      Divorced        0  \n",
       "34      Divorced        0  \n",
       "35        Single        0  \n",
       "36       Married        0  \n",
       "37      Divorced        0  \n",
       "38      Divorced        0  \n",
       "39        Single        0  \n",
       "40        Single        1  \n",
       "41       Married        0  \n",
       "42      Divorced        0  \n",
       "43       Married        0  \n",
       "44       Married        0  \n",
       "45        Single        0  \n",
       "46       Married        0  \n",
       "47      Divorced        1  \n",
       "48        Single        0  \n",
       "49       Married        0  "
      ]
     },
     "execution_count": 5,
     "metadata": {},
     "output_type": "execute_result"
    }
   ],
   "source": [
    "df2 = df1[['Age','Income','LoanAmount','CreditScore','LoanTerm', 'EmploymentType','MaritalStatus', 'Default']]\n",
    "df2.head(50)"
   ]
  },
  {
   "cell_type": "code",
   "execution_count": 6,
   "id": "4df8b73e-d2e9-4436-a866-0764f0a0b5bc",
   "metadata": {},
   "outputs": [
    {
     "data": {
      "text/plain": [
       "array([56, 69, 46, 32, 60, 25, 38, 36, 40, 28, 41, 53, 57, 20, 39, 19, 61,\n",
       "       47, 55, 50, 29, 42, 66, 44, 59, 45, 33, 64, 68, 54, 24, 26, 35, 21,\n",
       "       31, 67, 43, 37, 52, 34, 23, 51, 27, 48, 65, 62, 58, 18, 22, 30, 49,\n",
       "       63])"
      ]
     },
     "execution_count": 6,
     "metadata": {},
     "output_type": "execute_result"
    }
   ],
   "source": [
    "df2.Age.unique()"
   ]
  },
  {
   "cell_type": "code",
   "execution_count": 7,
   "id": "d5327619-0e1d-4a05-8dec-5e212f9363c7",
   "metadata": {},
   "outputs": [
    {
     "data": {
      "text/plain": [
       "array([ 85994,  50432,  84208,  31713,  20437,  90298, 111188, 126802,\n",
       "        42053, 132784, 140466, 149227,  23265, 117550, 139699,  74064,\n",
       "       119704,  33015,  40718, 123419,  30142, 146113, 132058, 118989,\n",
       "        56848,  81649, 114651,  17633,  62519, 141412,  39568, 100284,\n",
       "       102292,  85673,  92448, 102178, 102463,  85409,  26470,  87295,\n",
       "       139321,  21487, 111716, 105732,  73117, 125268,  24796,  95963,\n",
       "        16170, 143244, 103515, 100949,  92153,  70113,  24611,  37173,\n",
       "        31137,  49565,  31644,  49113,  85814, 110606,  76136,  82461,\n",
       "        37082, 149401,  77135,  34830, 142860,  20236,  17142,  60000,\n",
       "       142986,  59079, 118725, 130625,  49191,  46887,  23574,  49335,\n",
       "       143837,  99977,  80770,  46238,  24742,  56982, 137937, 109000,\n",
       "        59243,  35815, 138569,  90042,  93741, 114694, 108283,  30200,\n",
       "        25274,  55299, 100459,  74554,  47383, 148123, 128414,  40782,\n",
       "        28436, 145047,  93993, 137295,  29782,  39811,  42063,  21711,\n",
       "       103746,  66282, 132499, 132751,  22773,  75994, 146423, 106429,\n",
       "        45015,  57096, 101452,  58478,  80893, 141484, 112897, 146992,\n",
       "        92816,  60596, 148629,  74954,  96409, 134076,  97979,  91414,\n",
       "        29635,  78031,  60357, 107173,  64517,  74632, 105016,  16229,\n",
       "        81192, 108033,  89715, 142837,  77101,  73511,  78940, 110549,\n",
       "        29815,  44236,  28301,  58104, 105572,  92500,  38102,  97972,\n",
       "       126838, 133879, 110519, 116392,  65186,  78286, 141454,  25124,\n",
       "        32363,  72904,  15192,  30295, 119334, 134889,  49119, 142277,\n",
       "        99269, 107954,  25678,  17550,  58724,  83406,  54095, 148252,\n",
       "        52904,  96822, 131836,  37882,  72464,  15926,  38024, 145071,\n",
       "        19296, 146668, 114043,  19459,  87178,  94033, 102312, 107124,\n",
       "        84774, 127103, 101997,  47398, 106956,  59215,  17751, 135003,\n",
       "       109471,  93059, 125786,  51396, 124296,  62578, 117968,  86549,\n",
       "        69939, 142442, 142700,  38153,  22082,  91000, 101465, 100328,\n",
       "       118126,  99582, 117943,  70357,  70339,  67895,  55996,  45622,\n",
       "        77280,  30010,  56946, 139771,  74307,  97219,  26051,  65835,\n",
       "       148568, 117261,  39184,  90751,  15223,  75449,  37451,  87219,\n",
       "        51990,  97532,  84734,  74090, 138971,  85129,  41931, 140328,\n",
       "        36135,  19860,  25382, 132284, 149269,  18625, 109407, 112739,\n",
       "       125253, 135815, 109299,  36766, 110938,  20550,  99820,  50325,\n",
       "        90691,  29876, 120684, 127186,  23764, 148711,  38051, 146321,\n",
       "        44991,  27623,  58540,  51719,  34638,  49164, 139946,  83151,\n",
       "        60484,  56029, 127576,  16945, 126029,  92790,  94495,  60298,\n",
       "        21718,  17957, 110964,  22881,  27633, 122515, 129391, 118282,\n",
       "        30370, 100822, 143978,  98252,  83488,  90093, 147188, 109647,\n",
       "       123690,  93229, 111552, 133523, 138123,  50597, 113145,  95299,\n",
       "        46626,  75794, 125986,  33131,  32886, 110748,  64784,  59929,\n",
       "       126702,  40949,  80939,  19553,  68103,  61012,  83269,  66861,\n",
       "        94001,  90026,  20013, 116949,  43470,  64544,  37722, 126552,\n",
       "       147122,  96299,  76596,  91446,  67640, 135974, 103486, 114729,\n",
       "       144351, 137136,  82032, 120816, 138579, 123224,  69372, 122296,\n",
       "        37962,  46335, 111010, 109740,  47552,  18906,  28117, 144737,\n",
       "       101388,  15954,  80726,  94405,  24764,  99528,  66737, 111570,\n",
       "        21073,  32500, 140592,  89505,  84901,  33660, 112529,  54693,\n",
       "        81801, 141579,  93300, 108825,  80680,  53557, 149975,  96778,\n",
       "        99026,  33014, 125194,  73542,  96539,  78631,  95084,  70614,\n",
       "        70279,  38176,  70467,  86990,  97194,  34681,  94038,  96803,\n",
       "        66280, 117886,  62619,  37915,  64266, 146364,  39476,  86461,\n",
       "        48143, 143376, 109863,  60506, 130449, 139807,  48279,  89486,\n",
       "       123299, 106797, 134204, 119467, 131393,  77583, 124174,  52295,\n",
       "        79231,  78243,  88324,  79201, 146965,  60231,  92660,  85694,\n",
       "        72104, 113966,  65738,  90296,  99272,  85946, 120980, 145503,\n",
       "        63648,  49381,  57128, 139669,  17779, 110815,  92689,  18881,\n",
       "       100452,  55135,  89376, 101427,  60507, 108552,  78113, 106316,\n",
       "        78230,  15814,  90557,  26696,  36168, 140757, 142060, 110661,\n",
       "        23490, 130068,  63936, 125285, 122002,  86457, 137810,  25188,\n",
       "        24114, 128417,  16293, 131626,  96439, 121216,  97941,  72181,\n",
       "       103036, 108968,  50554, 138307, 103065, 138243,  82639, 133685,\n",
       "        34621,  71539,  43449,  70711, 142369,  25937,  20551,  98066,\n",
       "       144311,  37148, 113732, 117750,  69821,  39662, 148500,  51548,\n",
       "        90560,  53070,  42052,  99175,  55265, 139835,  75574, 121345,\n",
       "        91516, 109642,  15445, 127212,  67849,  82165, 119186, 102634,\n",
       "       112223,  40879, 125249, 137087, 138010, 128615,  24074,  39980,\n",
       "        73245,  35548,  75667,  22808, 135589, 143478, 146194,  38824,\n",
       "       113705,  42895,  56866,  98652,  30510,  81362,  55515, 149281,\n",
       "       135454, 145897, 107066,  70149, 136234,  56812,  62858,  94591,\n",
       "        66045, 140677,  90142, 122442,  20896,  82127, 107508,  45872,\n",
       "        63423,  76061, 102742, 113832, 137123,  69581,  87135,  91815,\n",
       "        78365, 140095,  59176,  33958, 111741,  78292,  49812,  26990,\n",
       "       111032,  41110, 115554,  57436,  94991, 101839, 132514,  36821,\n",
       "        55574,  39954,  80052, 123607,  43806, 119131, 107095,  25493,\n",
       "       148934,  83715,  58091,  82611,  57156,  84353,  53116, 132976,\n",
       "        78921,  75317, 125863, 104133,  68640,  56133,  35595,  75957,\n",
       "        16677, 130717,  57457, 104832, 113009,  66871,  82659,  53959,\n",
       "       122456, 115420, 139151,  32738, 114988,  50932,  99273, 145601,\n",
       "        62395, 121927,  54013,  46050,  36131,  58922,  39962, 103750,\n",
       "        39647, 144827,  48255,  51964,  43860, 131923,  97891,  55986,\n",
       "        58386, 134935,  91007,  36472, 121262, 131703,  34839, 126663,\n",
       "       103974,  91041,  54021, 109877, 110061,  81015,  68831,  47660,\n",
       "        53734,  57406,  19198, 126835, 132930,  83909, 125754,  55184,\n",
       "        93963,  21833, 146596, 120755,  38306, 114481,  92711, 118618,\n",
       "       125474,  93179, 141696,  88378,  91816,  44942,  32454, 105315,\n",
       "       145983,  28647, 107236,  70217, 101634,  47752, 120840,  25825,\n",
       "        68411,  91967,  70364,  86344, 111857,  57197,  21299,  19611,\n",
       "        73186, 122569,  81837, 145713, 108365,  74053,  48337,  60638,\n",
       "       102674,  80452,  41459,  73574, 112686,  36866,  44856, 103663,\n",
       "        94821,  22604, 129759,  61818, 108799,  48943,  20871, 144062,\n",
       "        21265,  53067, 123249,  92437, 104085,  53827, 106471,  96521,\n",
       "        78932,  87969, 102732, 132032,  77002, 113642,  92113, 148109,\n",
       "        94862, 116214,  64809, 125704,  86137,  29151,  25217,  63094,\n",
       "        82128, 109479,  86051,  52794,  85874, 137644,  64773, 148529,\n",
       "       139868,  77424,  80934, 143526,  96978, 102768,  63714,  92519,\n",
       "       140979, 117017,  47632, 143591,  83790, 146632, 143041,  46207,\n",
       "        52081, 135175,  85831,  67581, 138475,  41553,  57716, 117642,\n",
       "        90796,  97232,  55412,  47135, 106724, 105415, 104341,  30091,\n",
       "        40264,  72962,  58410,  83631,  79808,  36511,  15680,  73442,\n",
       "        44530,  49162,  57785,  87322,  47163,  52116,  79437,  53677,\n",
       "        48015,  55756, 141475, 124356,  88630,  57907,  95584, 111951,\n",
       "       109753,  48730, 120105,  82693,  44561, 125893,  42267, 134044,\n",
       "       136240,  50507,  60971,  61663,  85916,  64817, 123797,  98903,\n",
       "       126649,  55006, 147407,  22526,  49690,  18806,  32950,  17909,\n",
       "       121521,  34543,  33522,  85725,  24165,  29979,  27533, 106233,\n",
       "       105399,  51459,  18026,  27932, 122415,  96537,  71570, 130150,\n",
       "        25940, 148429, 124823,  81752,  64941,  65143,  61728,  31338,\n",
       "       130736, 132650,  72252,  65900,  68381, 120344,  97286,  63152,\n",
       "        49480,  16294,  67326,  56921,  45048, 112902, 147049, 120208,\n",
       "       145443,  64624,  57092, 132208,  19313,  15584,  74635, 102833,\n",
       "        38174,  50383, 144850, 124259, 105153, 148189,  20253,  25036,\n",
       "       101582, 113965,  43612,  78172,  22313,  32512,  55207,  83958,\n",
       "        75241, 144295, 121235,  33703, 118540,  33293,  20140,  82135,\n",
       "        71107, 138556,  78317, 138315,  69465,  43183, 133009,  21547,\n",
       "       106736,  83296,  72730,  69824, 122350,  33731, 123946, 140684,\n",
       "        61238, 132905,  24864, 149366,  58666,  29557, 116735,  20962,\n",
       "        80265,  69016, 109858, 118877,  55607,  49762,  50518, 104841,\n",
       "        30563, 127555, 146381,  99787,  69834,  63150, 143137,  22381,\n",
       "       112670,  52779,  86693,  53695,  40867, 102712, 108864, 136859,\n",
       "        70426,  59084, 125385, 125630,  90313, 118316,  56892,  38685,\n",
       "        51615, 120331, 136702, 128455, 141746,  16146,  59709,  26296,\n",
       "        17216,  49123, 131033,  91547,  18715, 123823, 135066, 128575,\n",
       "        64116,  51648,  20695, 124106,  65658,  69040,  70285,  87805,\n",
       "       129745,  58712, 108703, 146660])"
      ]
     },
     "execution_count": 7,
     "metadata": {},
     "output_type": "execute_result"
    }
   ],
   "source": [
    "df2.Income.unique()"
   ]
  },
  {
   "cell_type": "code",
   "execution_count": 8,
   "id": "272bea6b-1326-4fdc-a115-feec4908c84c",
   "metadata": {},
   "outputs": [
    {
     "data": {
      "text/plain": [
       "np.int64(300)"
      ]
     },
     "execution_count": 8,
     "metadata": {},
     "output_type": "execute_result"
    }
   ],
   "source": [
    "df2.CreditScore.min()"
   ]
  },
  {
   "cell_type": "code",
   "execution_count": 9,
   "id": "f451c47c-ed20-4d4f-a641-558962d20551",
   "metadata": {},
   "outputs": [
    {
     "name": "stdout",
     "output_type": "stream",
     "text": [
      "['Age', 'Income', 'LoanAmount', 'CreditScore', 'LoanTerm', 'EmploymentType', 'MaritalStatus', 'Default']\n"
     ]
    }
   ],
   "source": [
    "print(df2.columns.tolist())\n"
   ]
  },
  {
   "cell_type": "code",
   "execution_count": 10,
   "id": "fa3fa086-6f67-47d5-bdd2-f615fd900ce4",
   "metadata": {},
   "outputs": [],
   "source": [
    "df2.columns = df2.columns.str.strip()\n"
   ]
  },
  {
   "cell_type": "code",
   "execution_count": 11,
   "id": "99ed4ca9-77ea-4961-94e8-bc7819bf236f",
   "metadata": {},
   "outputs": [
    {
     "data": {
      "text/plain": [
       "array([36, 60, 24, 48, 12])"
      ]
     },
     "execution_count": 11,
     "metadata": {},
     "output_type": "execute_result"
    }
   ],
   "source": [
    "df2.LoanTerm.unique()"
   ]
  },
  {
   "cell_type": "code",
   "execution_count": 12,
   "id": "73d5bf46-3800-4e1c-b08e-be913ce56ffa",
   "metadata": {},
   "outputs": [
    {
     "data": {
      "text/plain": [
       "array(['Divorced', 'Married', 'Single'], dtype=object)"
      ]
     },
     "execution_count": 12,
     "metadata": {},
     "output_type": "execute_result"
    }
   ],
   "source": [
    "df2[\"MaritalStatus\"].unique()"
   ]
  },
  {
   "cell_type": "code",
   "execution_count": 13,
   "id": "dfdde3cf-6b5f-4992-a89b-7eb1d47a9fcb",
   "metadata": {},
   "outputs": [
    {
     "data": {
      "text/plain": [
       "array(['Divorced', 'Married', 'Single'], dtype=object)"
      ]
     },
     "execution_count": 13,
     "metadata": {},
     "output_type": "execute_result"
    }
   ],
   "source": [
    "df2.MaritalStatus.unique()"
   ]
  },
  {
   "cell_type": "code",
   "execution_count": 14,
   "id": "2af831f5-6b55-4126-acad-bbb76d895245",
   "metadata": {},
   "outputs": [
    {
     "name": "stderr",
     "output_type": "stream",
     "text": [
      "C:\\Users\\sowmi\\AppData\\Local\\Temp\\ipykernel_35640\\2347648955.py:7: SettingWithCopyWarning: \n",
      "A value is trying to be set on a copy of a slice from a DataFrame.\n",
      "Try using .loc[row_indexer,col_indexer] = value instead\n",
      "\n",
      "See the caveats in the documentation: https://pandas.pydata.org/pandas-docs/stable/user_guide/indexing.html#returning-a-view-versus-a-copy\n",
      "  df2['MaritalStatus'] = le.fit_transform(df2['MaritalStatus'])\n",
      "C:\\Users\\sowmi\\AppData\\Local\\Temp\\ipykernel_35640\\2347648955.py:8: SettingWithCopyWarning: \n",
      "A value is trying to be set on a copy of a slice from a DataFrame.\n",
      "Try using .loc[row_indexer,col_indexer] = value instead\n",
      "\n",
      "See the caveats in the documentation: https://pandas.pydata.org/pandas-docs/stable/user_guide/indexing.html#returning-a-view-versus-a-copy\n",
      "  df2['EmploymentType'] = le.fit_transform(df2['EmploymentType'])\n"
     ]
    }
   ],
   "source": [
    "from sklearn.preprocessing import LabelEncoder\n",
    "\n",
    "# Create the encoder\n",
    "le = LabelEncoder()\n",
    "\n",
    "# Apply to the column\n",
    "df2['MaritalStatus'] = le.fit_transform(df2['MaritalStatus'])\n",
    "df2['EmploymentType'] = le.fit_transform(df2['EmploymentType'])"
   ]
  },
  {
   "cell_type": "code",
   "execution_count": 15,
   "id": "44576b8b-a744-4efd-b36c-4f1adad259a4",
   "metadata": {},
   "outputs": [
    {
     "data": {
      "text/plain": [
       "array([0, 3, 2, 1])"
      ]
     },
     "execution_count": 15,
     "metadata": {},
     "output_type": "execute_result"
    }
   ],
   "source": [
    "df2.EmploymentType.unique()"
   ]
  },
  {
   "cell_type": "code",
   "execution_count": 16,
   "id": "647206ec-fe81-433b-b6ab-e9f3f2cf9961",
   "metadata": {},
   "outputs": [
    {
     "data": {
      "text/plain": [
       "array([0, 3, 2, 1])"
      ]
     },
     "execution_count": 16,
     "metadata": {},
     "output_type": "execute_result"
    }
   ],
   "source": [
    "df2.EmploymentType.unique()"
   ]
  },
  {
   "cell_type": "code",
   "execution_count": 17,
   "id": "a043258e-190b-4a9c-8865-a57b9581d1dc",
   "metadata": {},
   "outputs": [
    {
     "data": {
      "text/html": [
       "<div>\n",
       "<style scoped>\n",
       "    .dataframe tbody tr th:only-of-type {\n",
       "        vertical-align: middle;\n",
       "    }\n",
       "\n",
       "    .dataframe tbody tr th {\n",
       "        vertical-align: top;\n",
       "    }\n",
       "\n",
       "    .dataframe thead th {\n",
       "        text-align: right;\n",
       "    }\n",
       "</style>\n",
       "<table border=\"1\" class=\"dataframe\">\n",
       "  <thead>\n",
       "    <tr style=\"text-align: right;\">\n",
       "      <th></th>\n",
       "      <th>Age</th>\n",
       "      <th>Income</th>\n",
       "      <th>LoanAmount</th>\n",
       "      <th>CreditScore</th>\n",
       "      <th>LoanTerm</th>\n",
       "      <th>EmploymentType</th>\n",
       "      <th>MaritalStatus</th>\n",
       "      <th>Default</th>\n",
       "    </tr>\n",
       "  </thead>\n",
       "  <tbody>\n",
       "    <tr>\n",
       "      <th>0</th>\n",
       "      <td>56</td>\n",
       "      <td>85994</td>\n",
       "      <td>50587</td>\n",
       "      <td>520</td>\n",
       "      <td>36</td>\n",
       "      <td>0</td>\n",
       "      <td>0</td>\n",
       "      <td>0</td>\n",
       "    </tr>\n",
       "    <tr>\n",
       "      <th>1</th>\n",
       "      <td>69</td>\n",
       "      <td>50432</td>\n",
       "      <td>124440</td>\n",
       "      <td>458</td>\n",
       "      <td>60</td>\n",
       "      <td>0</td>\n",
       "      <td>1</td>\n",
       "      <td>0</td>\n",
       "    </tr>\n",
       "    <tr>\n",
       "      <th>2</th>\n",
       "      <td>46</td>\n",
       "      <td>84208</td>\n",
       "      <td>129188</td>\n",
       "      <td>451</td>\n",
       "      <td>24</td>\n",
       "      <td>3</td>\n",
       "      <td>0</td>\n",
       "      <td>1</td>\n",
       "    </tr>\n",
       "    <tr>\n",
       "      <th>3</th>\n",
       "      <td>32</td>\n",
       "      <td>31713</td>\n",
       "      <td>44799</td>\n",
       "      <td>743</td>\n",
       "      <td>24</td>\n",
       "      <td>0</td>\n",
       "      <td>1</td>\n",
       "      <td>0</td>\n",
       "    </tr>\n",
       "    <tr>\n",
       "      <th>4</th>\n",
       "      <td>60</td>\n",
       "      <td>20437</td>\n",
       "      <td>9139</td>\n",
       "      <td>633</td>\n",
       "      <td>48</td>\n",
       "      <td>3</td>\n",
       "      <td>0</td>\n",
       "      <td>0</td>\n",
       "    </tr>\n",
       "  </tbody>\n",
       "</table>\n",
       "</div>"
      ],
      "text/plain": [
       "   Age  Income  LoanAmount  CreditScore  LoanTerm  EmploymentType  \\\n",
       "0   56   85994       50587          520        36               0   \n",
       "1   69   50432      124440          458        60               0   \n",
       "2   46   84208      129188          451        24               3   \n",
       "3   32   31713       44799          743        24               0   \n",
       "4   60   20437        9139          633        48               3   \n",
       "\n",
       "   MaritalStatus  Default  \n",
       "0              0        0  \n",
       "1              1        0  \n",
       "2              0        1  \n",
       "3              1        0  \n",
       "4              0        0  "
      ]
     },
     "execution_count": 17,
     "metadata": {},
     "output_type": "execute_result"
    }
   ],
   "source": [
    "df2.head()"
   ]
  },
  {
   "cell_type": "code",
   "execution_count": 18,
   "id": "273dcbb2-c8d2-416d-83b2-bfccfbab2458",
   "metadata": {},
   "outputs": [
    {
     "data": {
      "image/png": "[encoded data removed]",
      "text/plain": [
       "<Figure size 640x480 with 1 Axes>"
      ]
     },
     "metadata": {},
     "output_type": "display_data"
    },
    {
     "data": {
      "image/png": "[encoded data removed]",
      "text/plain": [
       "<Figure size 640x480 with 1 Axes>"
      ]
     },
     "metadata": {},
     "output_type": "display_data"
    },
    {
     "data": {
      "image/png": "[encoded data removed]",
      "text/plain": [
       "<Figure size 640x480 with 1 Axes>"
      ]
     },
     "metadata": {},
     "output_type": "display_data"
    },
    {
     "data": {
      "image/png": "[encoded data removed]",
      "text/plain": [
       "<Figure size 640x480 with 1 Axes>"
      ]
     },
     "metadata": {},
     "output_type": "display_data"
    },
    {
     "data": {
      "image/png": "[encoded data removed]",
      "text/plain": [
       "<Figure size 640x480 with 1 Axes>"
      ]
     },
     "metadata": {},
     "output_type": "display_data"
    },
    {
     "data": {
      "image/png": "[encoded data removed]",
      "text/plain": [
       "<Figure size 640x480 with 1 Axes>"
      ]
     },
     "metadata": {},
     "output_type": "display_data"
    },
    {
     "data": {
      "image/png": "[encoded data removed]",
      "text/plain": [
       "<Figure size 640x480 with 1 Axes>"
      ]
     },
     "metadata": {},
     "output_type": "display_data"
    },
    {
     "data": {
      "image/png": "[encoded data removed]",
      "text/plain": [
       "<Figure size 640x480 with 1 Axes>"
      ]
     },
     "metadata": {},
     "output_type": "display_data"
    }
   ],
   "source": [
    "numeric_cols = df2.select_dtypes(include=['int64', 'float64']).columns\n",
    "for col in numeric_cols:\n",
    "    plt.figure()\n",
    "    plt.hist(df2[col].dropna())\n",
    "    plt.title(f\"Histogram of {col}\")\n",
    "    plt.xlabel(col)\n",
    "    plt.ylabel(\"Frequency\")\n",
    "    plt.show()\n"
   ]
  },
  {
   "cell_type": "code",
   "execution_count": 19,
   "id": "30f8147b-e1e9-4632-a636-b4473632b121",
   "metadata": {},
   "outputs": [
    {
     "data": {
      "image/png": "[encoded data removed]",
      "text/plain": [
       "<Figure size 640x480 with 1 Axes>"
      ]
     },
     "metadata": {},
     "output_type": "display_data"
    },
    {
     "data": {
      "image/png": "[encoded data removed]",
      "text/plain": [
       "<Figure size 640x480 with 1 Axes>"
      ]
     },
     "metadata": {},
     "output_type": "display_data"
    },
    {
     "data": {
      "image/png": "[encoded data removed]",
      "text/plain": [
       "<Figure size 640x480 with 1 Axes>"
      ]
     },
     "metadata": {},
     "output_type": "display_data"
    },
    {
     "data": {
      "image/png": "[encoded data removed]",
      "text/plain": [
       "<Figure size 640x480 with 1 Axes>"
      ]
     },
     "metadata": {},
     "output_type": "display_data"
    },
    {
     "data": {
      "image/png": "[encoded data removed]",
      "text/plain": [
       "<Figure size 640x480 with 1 Axes>"
      ]
     },
     "metadata": {},
     "output_type": "display_data"
    },
    {
     "data": {
      "image/png": "[encoded data removed]",
      "text/plain": [
       "<Figure size 640x480 with 1 Axes>"
      ]
     },
     "metadata": {},
     "output_type": "display_data"
    },
    {
     "data": {
      "image/png": "[encoded data removed]",
      "text/plain": [
       "<Figure size 640x480 with 1 Axes>"
      ]
     },
     "metadata": {},
     "output_type": "display_data"
    },
    {
     "data": {
      "image/png": "[encoded data removed]",
      "text/plain": [
       "<Figure size 640x480 with 1 Axes>"
      ]
     },
     "metadata": {},
     "output_type": "display_data"
    }
   ],
   "source": [
    "numeric_cols = df2.select_dtypes(include=['int64', 'float64']).columns\n",
    "for col in numeric_cols:\n",
    "    plt.figure()\n",
    "    plt.boxplot(df2[col].dropna())\n",
    "    plt.title(f\"Histogram of {col}\")\n",
    "    plt.xlabel(col)\n",
    "    plt.ylabel(\"Frequency\")\n",
    "    plt.show()\n"
   ]
  },
  {
   "cell_type": "code",
   "execution_count": 20,
   "id": "b03a3c4b-8bde-4360-a741-9186f1ac6faf",
   "metadata": {},
   "outputs": [],
   "source": [
    "#bad - 300 - 450\n",
    "#fair - 450 - 550\n",
    "#good - 550 - 700\n",
    "#excelent - 700 above\n",
    "df2.loc[df2['CreditScore'] < 450, ['Default']] = 1\n",
    "df2.loc[df2['CreditScore'] > 700, ['Default']] = 0\n",
    "df2.loc[df2['EmploymentType'] == 3, ['Default']] = 1\n",
    "df2.loc[(df2['Income'] >= 50000) & (df2['LoanAmount'] >= 150000) & (df2['CreditScore'] >= 550), 'Default'] = 0\n",
    "# df2['Default'] = df2['CreditScore'].apply(lambda x: 0 if x > 700 else 1)\n",
    "# df2['Default'] = df2['CreditScore'].apply(lambda x: 0 if x > 700 else 1)\n",
    "# df2['Default'] = df2['EmploymentType'].apply(lambda x : 1 if x == 3 else 0)\n",
    "# df2['Default'] = df2.apply( lambda row : 0 if (row['Income'] >= 50000 and row['LoanAmount'] >= 150000) else 1)"
   ]
  },
  {
   "cell_type": "code",
   "execution_count": 21,
   "id": "15a612f3-41ef-4b19-8d57-74a4f416b931",
   "metadata": {},
   "outputs": [
    {
     "data": {
      "text/plain": [
       "Default\n",
       "0    556\n",
       "1    444\n",
       "Name: count, dtype: int64"
      ]
     },
     "execution_count": 21,
     "metadata": {},
     "output_type": "execute_result"
    }
   ],
   "source": [
    "df2.Default.value_counts()"
   ]
  },
  {
   "cell_type": "code",
   "execution_count": 22,
   "id": "13386c27-04b3-492e-9bc6-07d906012297",
   "metadata": {},
   "outputs": [
    {
     "data": {
      "text/plain": [
       "2"
      ]
     },
     "execution_count": 22,
     "metadata": {},
     "output_type": "execute_result"
    }
   ],
   "source": [
    "unique_values = len(df2['Default'].unique())\n",
    "unique_values"
   ]
  },
  {
   "cell_type": "code",
   "execution_count": 23,
   "id": "621e289f-f5d9-44dd-bbd7-67dabddce648",
   "metadata": {},
   "outputs": [
    {
     "data": {
      "text/plain": [
       "np.int64(149975)"
      ]
     },
     "execution_count": 23,
     "metadata": {},
     "output_type": "execute_result"
    }
   ],
   "source": [
    "df2.Income.max()"
   ]
  },
  {
   "cell_type": "code",
   "execution_count": 24,
   "id": "4646145f-b743-45f5-a84c-e335193138b5",
   "metadata": {},
   "outputs": [
    {
     "data": {
      "text/plain": [
       "np.int64(15192)"
      ]
     },
     "execution_count": 24,
     "metadata": {},
     "output_type": "execute_result"
    }
   ],
   "source": [
    "df2.Income.min()"
   ]
  },
  {
   "cell_type": "code",
   "execution_count": 25,
   "id": "d293c23f-e8e3-45f4-b8fb-87173289c954",
   "metadata": {},
   "outputs": [
    {
     "data": {
      "text/plain": [
       "np.int64(249656)"
      ]
     },
     "execution_count": 25,
     "metadata": {},
     "output_type": "execute_result"
    }
   ],
   "source": [
    "df2.LoanAmount.max()"
   ]
  },
  {
   "cell_type": "code",
   "execution_count": 26,
   "id": "c0b750c6-2945-4ccd-8846-89d04e280feb",
   "metadata": {},
   "outputs": [
    {
     "data": {
      "text/plain": [
       "np.int64(5175)"
      ]
     },
     "execution_count": 26,
     "metadata": {},
     "output_type": "execute_result"
    }
   ],
   "source": [
    "df2.LoanAmount.min()"
   ]
  },
  {
   "cell_type": "code",
   "execution_count": 27,
   "id": "690a204d-4981-4581-a8c6-26ee107fcf3d",
   "metadata": {
    "scrolled": true
   },
   "outputs": [
    {
     "data": {
      "text/plain": [
       "np.int64(849)"
      ]
     },
     "execution_count": 27,
     "metadata": {},
     "output_type": "execute_result"
    }
   ],
   "source": [
    "df2.CreditScore.max()"
   ]
  },
  {
   "cell_type": "code",
   "execution_count": 28,
   "id": "3a1d8d8d-1434-4184-8548-7bc194512756",
   "metadata": {},
   "outputs": [
    {
     "data": {
      "text/plain": [
       "np.int64(300)"
      ]
     },
     "execution_count": 28,
     "metadata": {},
     "output_type": "execute_result"
    }
   ],
   "source": [
    "df2.CreditScore.min()"
   ]
  },
  {
   "cell_type": "code",
   "execution_count": 29,
   "id": "f27d1865-16cf-47c2-9a42-882156be77d6",
   "metadata": {},
   "outputs": [
    {
     "data": {
      "text/plain": [
       "array([36, 60, 24, 48, 12])"
      ]
     },
     "execution_count": 29,
     "metadata": {},
     "output_type": "execute_result"
    }
   ],
   "source": [
    "df2.LoanTerm.unique()"
   ]
  },
  {
   "cell_type": "code",
   "execution_count": 30,
   "id": "3ebec184-9753-4b16-9ca2-f7f5e7ffb350",
   "metadata": {},
   "outputs": [
    {
     "data": {
      "text/html": [
       "<div>\n",
       "<style scoped>\n",
       "    .dataframe tbody tr th:only-of-type {\n",
       "        vertical-align: middle;\n",
       "    }\n",
       "\n",
       "    .dataframe tbody tr th {\n",
       "        vertical-align: top;\n",
       "    }\n",
       "\n",
       "    .dataframe thead th {\n",
       "        text-align: right;\n",
       "    }\n",
       "</style>\n",
       "<table border=\"1\" class=\"dataframe\">\n",
       "  <thead>\n",
       "    <tr style=\"text-align: right;\">\n",
       "      <th></th>\n",
       "      <th>Age</th>\n",
       "      <th>Income</th>\n",
       "      <th>LoanAmount</th>\n",
       "      <th>CreditScore</th>\n",
       "      <th>LoanTerm</th>\n",
       "      <th>EmploymentType</th>\n",
       "      <th>MaritalStatus</th>\n",
       "      <th>Default</th>\n",
       "    </tr>\n",
       "  </thead>\n",
       "  <tbody>\n",
       "    <tr>\n",
       "      <th>0</th>\n",
       "      <td>56</td>\n",
       "      <td>85994</td>\n",
       "      <td>50587</td>\n",
       "      <td>520</td>\n",
       "      <td>36</td>\n",
       "      <td>0</td>\n",
       "      <td>0</td>\n",
       "      <td>0</td>\n",
       "    </tr>\n",
       "    <tr>\n",
       "      <th>1</th>\n",
       "      <td>69</td>\n",
       "      <td>50432</td>\n",
       "      <td>124440</td>\n",
       "      <td>458</td>\n",
       "      <td>60</td>\n",
       "      <td>0</td>\n",
       "      <td>1</td>\n",
       "      <td>0</td>\n",
       "    </tr>\n",
       "    <tr>\n",
       "      <th>2</th>\n",
       "      <td>46</td>\n",
       "      <td>84208</td>\n",
       "      <td>129188</td>\n",
       "      <td>451</td>\n",
       "      <td>24</td>\n",
       "      <td>3</td>\n",
       "      <td>0</td>\n",
       "      <td>1</td>\n",
       "    </tr>\n",
       "    <tr>\n",
       "      <th>3</th>\n",
       "      <td>32</td>\n",
       "      <td>31713</td>\n",
       "      <td>44799</td>\n",
       "      <td>743</td>\n",
       "      <td>24</td>\n",
       "      <td>0</td>\n",
       "      <td>1</td>\n",
       "      <td>0</td>\n",
       "    </tr>\n",
       "    <tr>\n",
       "      <th>4</th>\n",
       "      <td>60</td>\n",
       "      <td>20437</td>\n",
       "      <td>9139</td>\n",
       "      <td>633</td>\n",
       "      <td>48</td>\n",
       "      <td>3</td>\n",
       "      <td>0</td>\n",
       "      <td>1</td>\n",
       "    </tr>\n",
       "  </tbody>\n",
       "</table>\n",
       "</div>"
      ],
      "text/plain": [
       "   Age  Income  LoanAmount  CreditScore  LoanTerm  EmploymentType  \\\n",
       "0   56   85994       50587          520        36               0   \n",
       "1   69   50432      124440          458        60               0   \n",
       "2   46   84208      129188          451        24               3   \n",
       "3   32   31713       44799          743        24               0   \n",
       "4   60   20437        9139          633        48               3   \n",
       "\n",
       "   MaritalStatus  Default  \n",
       "0              0        0  \n",
       "1              1        0  \n",
       "2              0        1  \n",
       "3              1        0  \n",
       "4              0        1  "
      ]
     },
     "execution_count": 30,
     "metadata": {},
     "output_type": "execute_result"
    }
   ],
   "source": [
    "df2.head()"
   ]
  },
  {
   "cell_type": "code",
   "execution_count": 31,
   "id": "90441739-3e5c-4cb7-80d1-e546f7e7211a",
   "metadata": {},
   "outputs": [
    {
     "data": {
      "text/plain": [
       "EmploymentType\n",
       "3    268\n",
       "2    258\n",
       "0    254\n",
       "1    220\n",
       "Name: count, dtype: int64"
      ]
     },
     "execution_count": 31,
     "metadata": {},
     "output_type": "execute_result"
    }
   ],
   "source": [
    "df2.EmploymentType.value_counts()"
   ]
  },
  {
   "cell_type": "code",
   "execution_count": 32,
   "id": "4719e118-381b-468c-90be-daaf98798e59",
   "metadata": {},
   "outputs": [
    {
     "data": {
      "text/plain": [
       "array(['Full-time', 'Unemployed', 'Self-employed', 'Part-time'],\n",
       "      dtype=object)"
      ]
     },
     "execution_count": 32,
     "metadata": {},
     "output_type": "execute_result"
    }
   ],
   "source": [
    "data.EmploymentType.unique()"
   ]
  },
  {
   "cell_type": "code",
   "execution_count": 33,
   "id": "80a9396a-fe33-4e5c-a974-978c4ab5c3c4",
   "metadata": {},
   "outputs": [
    {
     "data": {
      "text/plain": [
       "array([0, 3, 2, 1])"
      ]
     },
     "execution_count": 33,
     "metadata": {},
     "output_type": "execute_result"
    }
   ],
   "source": [
    "df2.EmploymentType.unique()"
   ]
  },
  {
   "cell_type": "code",
   "execution_count": 34,
   "id": "ca1c3f21-a1cd-4422-bdf2-cf0a899d4ff0",
   "metadata": {},
   "outputs": [],
   "source": [
    "df2.to_csv(\"Bank_data.csv\", index=False)"
   ]
  },
  {
   "cell_type": "code",
   "execution_count": null,
   "id": "96e3d6d5-63a7-4dcb-9ad3-8de69dd77dc3",
   "metadata": {},
   "outputs": [],
   "source": [
    "df3 = df2.drop('')"
   ]
  },
  {
   "cell_type": "code",
   "execution_count": 36,
   "id": "a9a7b9bf-9842-47d2-b178-75d6032d8901",
   "metadata": {},
   "outputs": [
    {
     "data": {
      "image/png": "[encoded data removed]",
      "text/plain": [
       "<Figure size 600x600 with 1 Axes>"
      ]
     },
     "metadata": {},
     "output_type": "display_data"
    }
   ],
   "source": [
    "import pandas as pd\n",
    "import matplotlib.pyplot as plt\n",
    "\n",
    "df = pd.read_csv(\"Bank_data.csv\")  # Adjust path if needed\n",
    "\n",
    "default_counts = df['Default'].value_counts()\n",
    "labels = ['Non-Defaulters', 'Defaulters']\n",
    "colors = ['#66b3ff', '#ff6666']\n",
    "\n",
    "plt.figure(figsize=(6, 6))\n",
    "plt.pie(default_counts, labels=labels, autopct='%1.1f%%', colors=colors, startangle=140)\n",
    "plt.title('Loan Default Distribution')\n",
    "plt.axis('equal')\n",
    "plt.show()\n"
   ]
  },
  {
   "cell_type": "code",
   "execution_count": 38,
   "id": "39dd37e2-edcb-47fa-a11e-80e4bcb8c285",
   "metadata": {},
   "outputs": [
    {
     "data": {
      "image/png": "[encoded data removed]",
      "text/plain": [
       "<Figure size 1000x600 with 1 Axes>"
      ]
     },
     "metadata": {},
     "output_type": "display_data"
    }
   ],
   "source": [
    "import seaborn as sns\n",
    "\n",
    "plt.figure(figsize=(10, 6))\n",
    "sns.histplot(df['CreditScore'], bins=20, kde=False, color='skyblue', edgecolor='black')\n",
    "plt.title('Distribution of Cibil Scores')\n",
    "plt.xlabel('Cibil Score')\n",
    "plt.ylabel('Count')\n",
    "plt.grid(True)\n",
    "plt.show()\n"
   ]
  },
  {
   "cell_type": "code",
   "execution_count": null,
   "id": "964c5366-3e36-416f-98bd-616275ae4623",
   "metadata": {},
   "outputs": [],
   "source": []
  }
 ],
 "metadata": {
  "kernelspec": {
   "display_name": "Python 3 (ipykernel)",
   "language": "python",
   "name": "python3"
  },
  "language_info": {
   "codemirror_mode": {
    "name": "ipython",
    "version": 3
   },
   "file_extension": ".py",
   "mimetype": "text/x-python",
   "name": "python",
   "nbconvert_exporter": "python",
   "pygments_lexer": "ipython3",
   "version": "3.11.4"
  }
 },
 "nbformat": 4,
 "nbformat_minor": 5
}
